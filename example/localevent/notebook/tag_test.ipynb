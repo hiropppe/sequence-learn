{
 "cells": [
  {
   "cell_type": "code",
   "execution_count": 93,
   "metadata": {
    "collapsed": true
   },
   "outputs": [],
   "source": [
    "%matplotlib inline"
   ]
  },
  {
   "cell_type": "code",
   "execution_count": 94,
   "metadata": {
    "collapsed": true
   },
   "outputs": [],
   "source": [
    "from __future__ import division\n",
    "\n",
    "import re\n",
    "import codecs\n",
    "\n",
    "import numpy as np\n",
    "import matplotlib.pyplot as plt\n",
    "\n",
    "from sqlearn.crfsuite import crfutils\n",
    "from sqlearn.crfsuite import ner\n",
    "\n",
    "import MeCab\n",
    "mecab = MeCab.Tagger()"
   ]
  },
  {
   "cell_type": "code",
   "execution_count": 101,
   "metadata": {
    "collapsed": false
   },
   "outputs": [],
   "source": [
    "raw = u\"\"\"山形ふれあいマーケット\n",
    "ページID ： 104890\n",
    "５月から１１月まで、仙台市にて「山形ふれあいマーケット」を開催しています。\n",
    "とれたての野菜・果物など旬の美味しいものや、牛串や漬物、手作り味噌なども販売し、\n",
    "山形市の魅力を発信します。\n",
    "とき\t2016年5月25日 ～ 11月10日\n",
    "ところ\t仙台市匂当台公園　市民広場またはグリーンハウス前\n",
    "対象・定員\tどなたでもお越しください\n",
    "費用\t \n",
    "申し込み詳細\t \n",
    "関連リンク\"\"\""
   ]
  },
  {
   "cell_type": "code",
   "execution_count": 102,
   "metadata": {
    "collapsed": false
   },
   "outputs": [
    {
     "name": "stdout",
     "output_type": "stream",
     "text": [
      "111\n"
     ]
    }
   ],
   "source": [
    "data = []\n",
    "for line in raw.split('\\n'):\n",
    "    encoded_line = line.encode('utf-8')\n",
    "    node = mecab.parseToNode(encoded_line)\n",
    "    node = node.next\n",
    "    while node:\n",
    "        surface = node.surface.decode('utf-8')\n",
    "        features = node.feature.decode('utf-8').split(',')\n",
    "        data.append('%s %s_%s_%s' % (surface, features[0], features[1], features[2]))\n",
    "        node = node.next\n",
    "print len(data)\n",
    "data = '\\n'.join(data)"
   ]
  },
  {
   "cell_type": "code",
   "execution_count": 103,
   "metadata": {
    "collapsed": false
   },
   "outputs": [
    {
     "name": "stdout",
     "output_type": "stream",
     "text": [
      "山形 名詞_地名_*\n",
      "ふれあい 動詞_*_子音動詞ワ行\n",
      "マーケット 名詞_普通名詞_*\n",
      " BOS/EOS_*_*\n",
      "ページ 名詞_普通名詞_*\n",
      "ID 名詞_組織名_*\n",
      "： 特殊_記号_*\n",
      "104890 名詞_数詞_*\n",
      " BOS/EOS_*_*\n",
      "５ 名詞_数詞_*\n",
      "月 接尾辞_名詞性名詞助数辞_*\n",
      "から 助詞_格助詞_*\n",
      "１１ 名詞_数詞_*\n",
      "月 接尾辞_名詞性名詞助数辞_*\n",
      "まで 助詞_格助詞_*\n",
      "、 特殊_読点_*\n",
      "仙台 名詞_地名_*\n",
      "市 接尾辞_名詞性特殊接尾辞_*\n",
      "にて 助詞_格助詞_*\n",
      "「 特殊_括弧始_*\n",
      "山形 名詞_地名_*\n",
      "ふれあい 動詞_*_子音動詞ワ行\n",
      "マーケット 名詞_普通名詞_*\n",
      "」 特殊_括弧終_*\n",
      "を 助詞_格助詞_*\n",
      "開催 名詞_サ変名詞_*\n",
      "して 動詞_*_サ変動詞\n",
      "い 接尾辞_動詞性接尾辞_母音動詞\n",
      "ます 接尾辞_動詞性接尾辞_動詞性接尾辞ます型\n",
      "。 特殊_句点_*\n",
      " BOS/EOS_*_*\n",
      "とれ 動詞_*_母音動詞\n",
      "たて 接尾辞_名詞性述語接尾辞_*\n",
      "の 助詞_接続助詞_*\n",
      "野菜 名詞_普通名詞_*\n",
      "・ 特殊_記号_*\n",
      "果物 名詞_普通名詞_*\n",
      "など 助詞_副助詞_*\n",
      "旬 名詞_普通名詞_*\n",
      "の 助詞_格助詞_*\n",
      "美味しい 形容詞_*_イ形容詞イ段\n",
      "もの 名詞_形式名詞_*\n",
      "や 助詞_接続助詞_*\n",
      "、 特殊_読点_*\n",
      "牛 名詞_普通名詞_*\n",
      "串 名詞_普通名詞_*\n",
      "や 助詞_接続助詞_*\n",
      "漬物 名詞_普通名詞_*\n",
      "、 特殊_読点_*\n",
      "手作り 名詞_サ変名詞_*\n",
      "味噌 名詞_普通名詞_*\n",
      "など 助詞_副助詞_*\n",
      "も 助詞_副助詞_*\n",
      "販売 名詞_サ変名詞_*\n",
      "し 動詞_*_サ変動詞\n",
      "、 特殊_読点_*\n",
      " BOS/EOS_*_*\n",
      "山形 名詞_地名_*\n",
      "市 接尾辞_名詞性特殊接尾辞_*\n",
      "の 助詞_接続助詞_*\n",
      "魅力 名詞_普通名詞_*\n",
      "を 助詞_格助詞_*\n",
      "発信 名詞_サ変名詞_*\n",
      "し 動詞_*_サ変動詞\n",
      "ます 接尾辞_動詞性接尾辞_動詞性接尾辞ます型\n",
      "。 特殊_句点_*\n",
      " BOS/EOS_*_*\n",
      "とき 名詞_普通名詞_*\n",
      "2016 名詞_数詞_*\n",
      "年 接尾辞_名詞性名詞助数辞_*\n",
      "5 名詞_数詞_*\n",
      "月 接尾辞_名詞性名詞助数辞_*\n",
      "25 名詞_数詞_*\n",
      "日 接尾辞_名詞性名詞助数辞_*\n",
      "～ 特殊_記号_*\n",
      "11 名詞_数詞_*\n",
      "月 接尾辞_名詞性名詞助数辞_*\n",
      "10 名詞_数詞_*\n",
      "日 接尾辞_名詞性名詞助数辞_*\n",
      " BOS/EOS_*_*\n",
      "ところ 名詞_普通名詞_*\n",
      "仙台 名詞_地名_*\n",
      "市 接尾辞_名詞性特殊接尾辞_*\n",
      "匂 動詞_*_子音動詞ワ行\n",
      "当 連体詞_*_*\n",
      "台 名詞_普通名詞_*\n",
      "公園 名詞_普通名詞_*\n",
      "　 特殊_空白_*\n",
      "市民 名詞_普通名詞_*\n",
      "広場 名詞_普通名詞_*\n",
      "または 助詞_接続助詞_*\n",
      "グリーンハウス 名詞_人名_*\n",
      "前 接尾辞_名詞性名詞接尾辞_*\n",
      " BOS/EOS_*_*\n",
      "対象 名詞_普通名詞_*\n",
      "・ 特殊_記号_*\n",
      "定員 名詞_普通名詞_*\n",
      "どなた 名詞_普通名詞_*\n",
      "でも 助詞_副助詞_*\n",
      "お 接頭辞_名詞接頭辞_*\n",
      "越し 動詞_*_子音動詞サ行\n",
      "ください 接尾辞_動詞性接尾辞_子音動詞ラ行イ形\n",
      " BOS/EOS_*_*\n",
      "費用 名詞_普通名詞_*\n",
      " BOS/EOS_*_*\n",
      "申し込み 動詞_*_子音動詞マ行\n",
      "詳細 形容詞_*_ナ形容詞\n",
      " BOS/EOS_*_*\n",
      "関連 名詞_サ変名詞_*\n",
      "リンク 名詞_サ変名詞_*\n",
      " BOS/EOS_*_*\n"
     ]
    }
   ],
   "source": [
    "print data"
   ]
  },
  {
   "cell_type": "code",
   "execution_count": 104,
   "metadata": {
    "collapsed": false
   },
   "outputs": [
    {
     "name": "stdout",
     "output_type": "stream",
     "text": [
      "111\n"
     ]
    }
   ],
   "source": [
    "X, sent = [], []\n",
    "for line in data.split('\\n'):\n",
    "    splited_line = line.split(' ')\n",
    "    sent.append('%s %s' % (splited_line[0], splited_line[1]))\n",
    "\n",
    "sent.append('\\n')\n",
    "for item in crfutils.readiter(sent, ['w', 'pos'], ' '):\n",
    "    ner.feature_extractor(item)\n",
    "    X.append(item)\n",
    "        \n",
    "X = [[feature['F'] for feature in sent] for sent in X]\n",
    "\n",
    "X = np.asarray(X)\n",
    "print len(X[0])"
   ]
  },
  {
   "cell_type": "code",
   "execution_count": 105,
   "metadata": {
    "collapsed": false,
    "scrolled": true
   },
   "outputs": [
    {
     "name": "stdout",
     "output_type": "stream",
     "text": [
      "[u'w[0]=\\u5c71\\u5f62', u'w[1]=\\u3075\\u308c\\u3042\\u3044', u'w[2]=\\u30de\\u30fc\\u30b1\\u30c3\\u30c8', u'w[3]=', u'w[4]=\\u30da\\u30fc\\u30b8', u'w[0]|w[1]=\\u5c71\\u5f62|\\u3075\\u308c\\u3042\\u3044', u'w[1]|w[2]=\\u3075\\u308c\\u3042\\u3044|\\u30de\\u30fc\\u30b1\\u30c3\\u30c8', u'w[2]|w[3]=\\u30de\\u30fc\\u30b1\\u30c3\\u30c8|', u'w[3]|w[4]=|\\u30da\\u30fc\\u30b8', u'pos[0]=\\u540d\\u8a5e_\\u5730\\u540d_*', u'pos[1]=\\u52d5\\u8a5e_*_\\u5b50\\u97f3\\u52d5\\u8a5e\\u30ef\\u884c', u'pos[2]=\\u540d\\u8a5e_\\u666e\\u901a\\u540d\\u8a5e_*', u'pos[3]=BOS/EOS_*_*', u'pos[4]=\\u540d\\u8a5e_\\u666e\\u901a\\u540d\\u8a5e_*', u'pos[0]|pos[1]=\\u540d\\u8a5e_\\u5730\\u540d_*|\\u52d5\\u8a5e_*_\\u5b50\\u97f3\\u52d5\\u8a5e\\u30ef\\u884c', u'pos[1]|pos[2]=\\u52d5\\u8a5e_*_\\u5b50\\u97f3\\u52d5\\u8a5e\\u30ef\\u884c|\\u540d\\u8a5e_\\u666e\\u901a\\u540d\\u8a5e_*', u'pos[2]|pos[3]=\\u540d\\u8a5e_\\u666e\\u901a\\u540d\\u8a5e_*|BOS/EOS_*_*', u'pos[3]|pos[4]=BOS/EOS_*_*|\\u540d\\u8a5e_\\u666e\\u901a\\u540d\\u8a5e_*', u'pos[0]|pos[1]|pos[2]=\\u540d\\u8a5e_\\u5730\\u540d_*|\\u52d5\\u8a5e_*_\\u5b50\\u97f3\\u52d5\\u8a5e\\u30ef\\u884c|\\u540d\\u8a5e_\\u666e\\u901a\\u540d\\u8a5e_*', '__BOS__']\n",
      "[u'w[-1]=\\u5c71\\u5f62', u'w[0]=\\u3075\\u308c\\u3042\\u3044', u'w[1]=\\u30de\\u30fc\\u30b1\\u30c3\\u30c8', u'w[2]=', u'w[3]=\\u30da\\u30fc\\u30b8', u'w[4]=ID', u'w[-1]|w[0]=\\u5c71\\u5f62|\\u3075\\u308c\\u3042\\u3044', u'w[0]|w[1]=\\u3075\\u308c\\u3042\\u3044|\\u30de\\u30fc\\u30b1\\u30c3\\u30c8', u'w[1]|w[2]=\\u30de\\u30fc\\u30b1\\u30c3\\u30c8|', u'w[2]|w[3]=|\\u30da\\u30fc\\u30b8', u'w[3]|w[4]=\\u30da\\u30fc\\u30b8|ID', u'pos[-1]=\\u540d\\u8a5e_\\u5730\\u540d_*', u'pos[0]=\\u52d5\\u8a5e_*_\\u5b50\\u97f3\\u52d5\\u8a5e\\u30ef\\u884c', u'pos[1]=\\u540d\\u8a5e_\\u666e\\u901a\\u540d\\u8a5e_*', u'pos[2]=BOS/EOS_*_*', u'pos[3]=\\u540d\\u8a5e_\\u666e\\u901a\\u540d\\u8a5e_*', u'pos[4]=\\u540d\\u8a5e_\\u7d44\\u7e54\\u540d_*', u'pos[-1]|pos[0]=\\u540d\\u8a5e_\\u5730\\u540d_*|\\u52d5\\u8a5e_*_\\u5b50\\u97f3\\u52d5\\u8a5e\\u30ef\\u884c', u'pos[0]|pos[1]=\\u52d5\\u8a5e_*_\\u5b50\\u97f3\\u52d5\\u8a5e\\u30ef\\u884c|\\u540d\\u8a5e_\\u666e\\u901a\\u540d\\u8a5e_*', u'pos[1]|pos[2]=\\u540d\\u8a5e_\\u666e\\u901a\\u540d\\u8a5e_*|BOS/EOS_*_*', u'pos[2]|pos[3]=BOS/EOS_*_*|\\u540d\\u8a5e_\\u666e\\u901a\\u540d\\u8a5e_*', u'pos[3]|pos[4]=\\u540d\\u8a5e_\\u666e\\u901a\\u540d\\u8a5e_*|\\u540d\\u8a5e_\\u7d44\\u7e54\\u540d_*', u'pos[-1]|pos[0]|pos[1]=\\u540d\\u8a5e_\\u5730\\u540d_*|\\u52d5\\u8a5e_*_\\u5b50\\u97f3\\u52d5\\u8a5e\\u30ef\\u884c|\\u540d\\u8a5e_\\u666e\\u901a\\u540d\\u8a5e_*', u'pos[0]|pos[1]|pos[2]=\\u52d5\\u8a5e_*_\\u5b50\\u97f3\\u52d5\\u8a5e\\u30ef\\u884c|\\u540d\\u8a5e_\\u666e\\u901a\\u540d\\u8a5e_*|BOS/EOS_*_*']\n"
     ]
    }
   ],
   "source": [
    "print X[0][0]\n",
    "print X[0][1]"
   ]
  },
  {
   "cell_type": "code",
   "execution_count": 106,
   "metadata": {
    "collapsed": false
   },
   "outputs": [
    {
     "name": "stdout",
     "output_type": "stream",
     "text": [
      "山形 B-OCCATION\n",
      "ふれあい I-OCCATION\n",
      "マーケット I-OCCATION\n",
      "BOS/EOS_*_* O\n",
      "ページ O\n",
      "ID O\n",
      "： O\n",
      "104890 O\n",
      "BOS/EOS_*_* O\n",
      "５ O\n",
      "月 O\n",
      "から O\n",
      "１１ O\n",
      "月 O\n",
      "まで O\n",
      "、 O\n",
      "仙台 O\n",
      "市 O\n",
      "にて O\n",
      "「 O\n",
      "山形 O\n",
      "ふれあい O\n",
      "マーケット O\n",
      "」 O\n",
      "を O\n",
      "開催 O\n",
      "して O\n",
      "い O\n",
      "ます O\n",
      "。 O\n",
      "BOS/EOS_*_* O\n",
      "とれ O\n",
      "たて O\n",
      "の O\n",
      "野菜 O\n",
      "・ O\n",
      "果物 O\n",
      "など O\n",
      "旬 O\n",
      "の O\n",
      "美味しい O\n",
      "もの O\n",
      "や O\n",
      "、 O\n",
      "牛 O\n",
      "串 O\n",
      "や O\n",
      "漬物 O\n",
      "、 O\n",
      "手作り O\n",
      "味噌 O\n",
      "など O\n",
      "も O\n",
      "販売 O\n",
      "し O\n",
      "、 O\n",
      "BOS/EOS_*_* O\n",
      "山形 O\n",
      "市 O\n",
      "の O\n",
      "魅力 O\n",
      "を O\n",
      "発信 O\n",
      "し O\n",
      "ます O\n",
      "。 O\n",
      "BOS/EOS_*_* O\n",
      "とき O\n",
      "2016 O\n",
      "年 O\n",
      "5 O\n",
      "月 O\n",
      "25 O\n",
      "日 O\n",
      "～ O\n",
      "11 O\n",
      "月 O\n",
      "10 O\n",
      "日 O\n",
      "BOS/EOS_*_* O\n",
      "ところ O\n",
      "仙台 O\n",
      "市 O\n",
      "匂 O\n",
      "当 O\n",
      "台 O\n",
      "公園 O\n",
      "特殊_空白_* O\n",
      "市民 O\n",
      "広場 O\n",
      "または O\n",
      "グリーンハウス O\n",
      "前 O\n",
      "BOS/EOS_*_* O\n",
      "対象 O\n",
      "・ O\n",
      "定員 O\n",
      "どなた O\n",
      "でも O\n",
      "お O\n",
      "越し O\n",
      "ください O\n",
      "BOS/EOS_*_* O\n",
      "費用 O\n",
      "BOS/EOS_*_* O\n",
      "申し込み O\n",
      "詳細 O\n",
      "BOS/EOS_*_* O\n",
      "関連 O\n",
      "リンク O\n",
      "BOS/EOS_*_* O\n"
     ]
    }
   ],
   "source": [
    "import pycrfsuite as crf\n",
    "\n",
    "tagger = crf.Tagger()\n",
    "tagger.open('model')\n",
    "y = tagger.tag(X[0])\n",
    "\n",
    "for e in zip(data.split('\\n'), y):\n",
    "    print e[0].split()[0], e[1]"
   ]
  },
  {
   "cell_type": "code",
   "execution_count": null,
   "metadata": {
    "collapsed": true
   },
   "outputs": [],
   "source": []
  },
  {
   "cell_type": "code",
   "execution_count": null,
   "metadata": {
    "collapsed": true
   },
   "outputs": [],
   "source": []
  }
 ],
 "metadata": {
  "kernelspec": {
   "display_name": "Python 2",
   "language": "python",
   "name": "python2"
  },
  "language_info": {
   "codemirror_mode": {
    "name": "ipython",
    "version": 2
   },
   "file_extension": ".py",
   "mimetype": "text/x-python",
   "name": "python",
   "nbconvert_exporter": "python",
   "pygments_lexer": "ipython2",
   "version": "2.7.10"
  }
 },
 "nbformat": 4,
 "nbformat_minor": 0
}
